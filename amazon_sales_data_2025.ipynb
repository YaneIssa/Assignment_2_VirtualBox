{
 "cells": [
  {
   "cell_type": "code",
   "execution_count": 1,
   "id": "2fc7e45c-d467-4c36-8934-c6d90da67bd2",
   "metadata": {},
   "outputs": [
    {
     "name": "stdout",
     "output_type": "stream",
     "text": [
      "  Order ID      Date        Product     Category  Price  Quantity  \\\n",
      "0  ORD0001  14-03-25  Running Shoes     Footwear     60         3   \n",
      "1  ORD0002  20-03-25     Headphones  Electronics    100         4   \n",
      "2  ORD0003  15-02-25  Running Shoes     Footwear     60         2   \n",
      "3  ORD0004  19-02-25  Running Shoes     Footwear     60         3   \n",
      "4  ORD0005  10-03-25     Smartwatch  Electronics    150         3   \n",
      "\n",
      "   Total Sales  Customer Name Customer Location Payment Method     Status  \n",
      "0          180     Emma Clark          New York     Debit Card  Cancelled  \n",
      "1          400  Emily Johnson     San Francisco     Debit Card    Pending  \n",
      "2          120       John Doe            Denver     Amazon Pay  Cancelled  \n",
      "3          180  Olivia Wilson            Dallas    Credit Card    Pending  \n",
      "4          450     Emma Clark          New York     Debit Card    Pending  \n",
      "<class 'pandas.core.frame.DataFrame'>\n",
      "RangeIndex: 250 entries, 0 to 249\n",
      "Data columns (total 11 columns):\n",
      " #   Column             Non-Null Count  Dtype \n",
      "---  ------             --------------  ----- \n",
      " 0   Order ID           250 non-null    object\n",
      " 1   Date               250 non-null    object\n",
      " 2   Product            250 non-null    object\n",
      " 3   Category           250 non-null    object\n",
      " 4   Price              250 non-null    int64 \n",
      " 5   Quantity           250 non-null    int64 \n",
      " 6   Total Sales        250 non-null    int64 \n",
      " 7   Customer Name      250 non-null    object\n",
      " 8   Customer Location  250 non-null    object\n",
      " 9   Payment Method     250 non-null    object\n",
      " 10  Status             250 non-null    object\n",
      "dtypes: int64(3), object(8)\n",
      "memory usage: 21.6+ KB\n",
      "None\n"
     ]
    }
   ],
   "source": [
    "import pandas as pd\n",
    "\n",
    "df = pd.read_csv(\"amazon_sales_data_2025.csv\")\n",
    "print(df.head())\n",
    "print(df.info())"
   ]
  },
  {
   "cell_type": "code",
   "execution_count": 5,
   "id": "72219dcc-bd58-4fa7-9ddc-466dc53494bb",
   "metadata": {},
   "outputs": [
    {
     "name": "stdout",
     "output_type": "stream",
     "text": [
      "✅ Most Sold Item:\n",
      "      Product  Quantity\n",
      "7  Smartwatch       105\n"
     ]
    }
   ],
   "source": [
    "import pandas as pd\n",
    "\n",
    "# Step 1: Load the dataset (CSV or JSON)\n",
    "df = pd.read_csv(\"amazon_sales_data_2025.csv\")\n",
    "\n",
    "# Step 2: Group by product_name and sum the quantity\n",
    "sales_summary = df.groupby(\"Product\")[\"Quantity\"].sum().reset_index()\n",
    "\n",
    "# Step 3: Sort the results in descending order\n",
    "sorted_sales = sales_summary.sort_values(by=\"Quantity\", ascending=False)\n",
    "\n",
    "# Step 4: Get the top-selling product\n",
    "most_sold_item = sorted_sales.head(1)\n",
    "\n",
    "# Display the result\n",
    "print(\"✅ Most Sold Item:\")\n",
    "print(most_sold_item)\n"
   ]
  },
  {
   "cell_type": "code",
   "execution_count": 1,
   "id": "d6b0cf22",
   "metadata": {},
   "outputs": [
    {
     "name": "stdout",
     "output_type": "stream",
     "text": [
      "✅ Most Sold Item:\n",
      "      Product  Quantity\n",
      "7  Smartwatch       105\n"
     ]
    }
   ],
   "source": [
    "import pandas as pd\n",
    "\n",
    "# Step 1: Load the dataset (CSV or JSON)\n",
    "df = pd.read_json(\"amazon_sales_data_2025.json\")\n",
    "\n",
    "# Step 2: Group by product_name and sum the quantity\n",
    "sales_summary = df.groupby(\"Product\")[\"Quantity\"].sum().reset_index()\n",
    "\n",
    "# Step 3: Sort the results in descending order\n",
    "sorted_sales = sales_summary.sort_values(by=\"Quantity\", ascending=False)\n",
    "\n",
    "# Step 4: Get the top-selling product\n",
    "most_sold_item = sorted_sales.head(1)\n",
    "\n",
    "# Display the result\n",
    "print(\"✅ Most Sold Item:\")\n",
    "print(most_sold_item)\n"
   ]
  },
  {
   "cell_type": "code",
   "execution_count": null,
   "id": "518e4fa8-6559-4f83-8899-5c9bba5f0b05",
   "metadata": {},
   "outputs": [],
   "source": []
  }
 ],
 "metadata": {
  "kernelspec": {
   "display_name": "Python 3 (ipykernel)",
   "language": "python",
   "name": "python3"
  },
  "language_info": {
   "codemirror_mode": {
    "name": "ipython",
    "version": 3
   },
   "file_extension": ".py",
   "mimetype": "text/x-python",
   "name": "python",
   "nbconvert_exporter": "python",
   "pygments_lexer": "ipython3",
   "version": "3.12.4"
  }
 },
 "nbformat": 4,
 "nbformat_minor": 5
}
